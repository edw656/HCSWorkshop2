{
 "cells": [
  {
   "cell_type": "code",
   "execution_count": 1,
   "metadata": {},
   "outputs": [],
   "source": [
    "# HCS Workshop 2, Web Scraping"
   ]
  },
  {
   "cell_type": "code",
   "execution_count": 2,
   "metadata": {},
   "outputs": [],
   "source": [
    "# Author: Edwrd Dan"
   ]
  },
  {
   "cell_type": "code",
   "execution_count": 3,
   "metadata": {},
   "outputs": [],
   "source": [
    "#imports\n",
    "import requests\n",
    "from bs4 import BeautifulSoup\n",
    "from IPython.display import Image\n",
    "from IPython.core.display import HTML "
   ]
  },
  {
   "cell_type": "code",
   "execution_count": 4,
   "metadata": {},
   "outputs": [
    {
     "data": {
      "text/html": [
       "<img src=\"/images/branding/searchlogo/1x/googlelogo_desk_heirloom_color_150x55dp.gif\"/>"
      ],
      "text/plain": [
       "<IPython.core.display.Image object>"
      ]
     },
     "metadata": {},
     "output_type": "display_data"
    },
    {
     "data": {
      "text/html": [
       "<img src=\"https://encrypted-tbn0.gstatic.com/images?q=tbn:ANd9GcQELw75aIEQlRHFMdiGAOWZtcjoKN0GfY51_zP2MvbYUEsjWlUU8m3lWdbR9bw&s\"/>"
      ],
      "text/plain": [
       "<IPython.core.display.Image object>"
      ]
     },
     "metadata": {},
     "output_type": "display_data"
    },
    {
     "data": {
      "text/html": [
       "<img src=\"https://encrypted-tbn0.gstatic.com/images?q=tbn:ANd9GcS0tSFdjdezJwdomAPfM-xLGtfcuql5DVrRBLWvzqP0xPrXUrpochndcMGSfA&s\"/>"
      ],
      "text/plain": [
       "<IPython.core.display.Image object>"
      ]
     },
     "metadata": {},
     "output_type": "display_data"
    },
    {
     "data": {
      "text/html": [
       "<img src=\"https://encrypted-tbn0.gstatic.com/images?q=tbn:ANd9GcQSa-2JwxSvWJC4ruN7rULo1SDGoSah54b4KXDIC-86SYnUtI_Lpv3630KHQGQ&s\"/>"
      ],
      "text/plain": [
       "<IPython.core.display.Image object>"
      ]
     },
     "metadata": {},
     "output_type": "display_data"
    },
    {
     "data": {
      "text/html": [
       "<img src=\"https://encrypted-tbn0.gstatic.com/images?q=tbn:ANd9GcS2b4Y5AkCWz4cI-I-27DpP8_gsOKOXnHTCW3PHxUfYWVgDnm2-nMApDrO_Mw&s\"/>"
      ],
      "text/plain": [
       "<IPython.core.display.Image object>"
      ]
     },
     "metadata": {},
     "output_type": "display_data"
    },
    {
     "data": {
      "text/html": [
       "<img src=\"https://encrypted-tbn0.gstatic.com/images?q=tbn:ANd9GcQ3fKod9IzSbPqGE5w0rT2DdgFfzg5nnn4kcHxag5zdUsPIqHWAz28jEwc9xc4&s\"/>"
      ],
      "text/plain": [
       "<IPython.core.display.Image object>"
      ]
     },
     "metadata": {},
     "output_type": "display_data"
    },
    {
     "data": {
      "text/html": [
       "<img src=\"https://encrypted-tbn0.gstatic.com/images?q=tbn:ANd9GcRkkTEoBXl0FQGkNSIdXELBXm-oRxw2-boo28pwNNjfg_reGfNCsEQ9pGMaUA&s\"/>"
      ],
      "text/plain": [
       "<IPython.core.display.Image object>"
      ]
     },
     "metadata": {},
     "output_type": "display_data"
    },
    {
     "data": {
      "text/html": [
       "<img src=\"https://encrypted-tbn0.gstatic.com/images?q=tbn:ANd9GcSCtVZ-lyzGF425zhBKzigTzqbIg8Bu99UyjUU3TLgO3nvqZ4t2Q0ZbqNc1Z1s&s\"/>"
      ],
      "text/plain": [
       "<IPython.core.display.Image object>"
      ]
     },
     "metadata": {},
     "output_type": "display_data"
    },
    {
     "data": {
      "text/html": [
       "<img src=\"https://encrypted-tbn0.gstatic.com/images?q=tbn:ANd9GcRarZMragnzrrQ0sdBD5J16pRCd4-ArRkR09VXdpJyfVZIZo-MPwX2OJbdURpY&s\"/>"
      ],
      "text/plain": [
       "<IPython.core.display.Image object>"
      ]
     },
     "metadata": {},
     "output_type": "display_data"
    },
    {
     "data": {
      "text/html": [
       "<img src=\"https://encrypted-tbn0.gstatic.com/images?q=tbn:ANd9GcRRTMFejz9cG4ibXRxoOhFyJc_mEoN2a3M1VrQ1Wmz4Sxdli4_YxAMa7Rgv5g&s\"/>"
      ],
      "text/plain": [
       "<IPython.core.display.Image object>"
      ]
     },
     "metadata": {},
     "output_type": "display_data"
    },
    {
     "data": {
      "text/html": [
       "<img src=\"https://encrypted-tbn0.gstatic.com/images?q=tbn:ANd9GcTctmJSK4d62NbUU543aYajOBl2A3Ckb4jz98zqzYyZKG4_ZL-iXzkOVJRy5A&s\"/>"
      ],
      "text/plain": [
       "<IPython.core.display.Image object>"
      ]
     },
     "metadata": {},
     "output_type": "display_data"
    },
    {
     "data": {
      "text/html": [
       "<img src=\"https://encrypted-tbn0.gstatic.com/images?q=tbn:ANd9GcS0ZFj4GgrOKV1mcNYRWpYGcJ7a67959N5uKJqrFk-WXoae8xJL7VSp5UjaoQ&s\"/>"
      ],
      "text/plain": [
       "<IPython.core.display.Image object>"
      ]
     },
     "metadata": {},
     "output_type": "display_data"
    },
    {
     "data": {
      "text/html": [
       "<img src=\"https://encrypted-tbn0.gstatic.com/images?q=tbn:ANd9GcST9Qi1wmHNQkQwN9STMUoxQTpCBfoT7hKMM7ekL6bGVd1W7UHRkRrSnjky2sw&s\"/>"
      ],
      "text/plain": [
       "<IPython.core.display.Image object>"
      ]
     },
     "metadata": {},
     "output_type": "display_data"
    },
    {
     "data": {
      "text/html": [
       "<img src=\"https://encrypted-tbn0.gstatic.com/images?q=tbn:ANd9GcSp90MHU850zCfZ4HCRMtGeldeo5qoHS2FYmucaUPz7ZgyqD4csbFgXF5WR&s\"/>"
      ],
      "text/plain": [
       "<IPython.core.display.Image object>"
      ]
     },
     "metadata": {},
     "output_type": "display_data"
    },
    {
     "data": {
      "text/html": [
       "<img src=\"https://encrypted-tbn0.gstatic.com/images?q=tbn:ANd9GcQ140YaZxu7IMb_YNJML1CE1f2B8Lacjh6mYh_8HtR1o-Gyr9auFs7Pb5tCZA&s\"/>"
      ],
      "text/plain": [
       "<IPython.core.display.Image object>"
      ]
     },
     "metadata": {},
     "output_type": "display_data"
    },
    {
     "data": {
      "text/html": [
       "<img src=\"https://encrypted-tbn0.gstatic.com/images?q=tbn:ANd9GcTPWzd-coPcdv4Ze7sS1TBdPMskDQvOgV3e-WZnm9JCTEwql158owyqwrKFrjY&s\"/>"
      ],
      "text/plain": [
       "<IPython.core.display.Image object>"
      ]
     },
     "metadata": {},
     "output_type": "display_data"
    },
    {
     "data": {
      "text/html": [
       "<img src=\"https://encrypted-tbn0.gstatic.com/images?q=tbn:ANd9GcRalskZItHo_xN4u2_Cn2nLyHJISx06dsSBAuuzE7Tt5G2--XmvmuE83Rspkbc&s\"/>"
      ],
      "text/plain": [
       "<IPython.core.display.Image object>"
      ]
     },
     "metadata": {},
     "output_type": "display_data"
    },
    {
     "data": {
      "text/html": [
       "<img src=\"https://encrypted-tbn0.gstatic.com/images?q=tbn:ANd9GcQUFckgTDg06ThjWeVnHMi1YFXmB9tHU2W87GYfpXB3noeuDKYgNgPLvwcIxA&s\"/>"
      ],
      "text/plain": [
       "<IPython.core.display.Image object>"
      ]
     },
     "metadata": {},
     "output_type": "display_data"
    },
    {
     "data": {
      "text/html": [
       "<img src=\"https://encrypted-tbn0.gstatic.com/images?q=tbn:ANd9GcSkSyG7HkUmkYEC6RNIR6Ydi69F0ks5q86Wpi1eVChKFb8upf_w6mmapXZEnZ0&s\"/>"
      ],
      "text/plain": [
       "<IPython.core.display.Image object>"
      ]
     },
     "metadata": {},
     "output_type": "display_data"
    },
    {
     "data": {
      "text/html": [
       "<img src=\"https://encrypted-tbn0.gstatic.com/images?q=tbn:ANd9GcT5-YGHJ0TEUxXNXN0RORTg_NQAUQxVo-KZZTTwskAGqE5VpK8LguO2Vo1VWiU&s\"/>"
      ],
      "text/plain": [
       "<IPython.core.display.Image object>"
      ]
     },
     "metadata": {},
     "output_type": "display_data"
    },
    {
     "data": {
      "text/html": [
       "<img src=\"https://encrypted-tbn0.gstatic.com/images?q=tbn:ANd9GcSWtkqqRJP9tU1PWbwSKivEC6HXpalFdt7szBoj3eWzv1iy5_KJy1lL7asCvEg&s\"/>"
      ],
      "text/plain": [
       "<IPython.core.display.Image object>"
      ]
     },
     "metadata": {},
     "output_type": "display_data"
    }
   ],
   "source": [
    "search = 'Harvard'\n",
    "page = requests.get(\"https://www.google.com/search?q=\" + search+ \"&sxsrf=ALeKk027LL_Jw4eAc9_WTd-lJj1Mg-u7JA:1603847621912&source=lnms&tbm=isch&sa=X&ved=2ahUKEwjL_pv-jdbsAhVoAZ0JHYr-CXcQ_AUoAnoECDoQBA&cshid=1603847650994765&biw=895&bih=990\")\n",
    "soup = BeautifulSoup(page.content, 'html.parser')\n",
    "\n",
    "images = list(soup.children)[1].find_all(\"img\")\n",
    "\n",
    "for image in images:\n",
    "    display(Image(url=image['src']))"
   ]
  },
  {
   "cell_type": "code",
   "execution_count": null,
   "metadata": {},
   "outputs": [],
   "source": []
  }
 ],
 "metadata": {
  "kernelspec": {
   "display_name": "Python 3",
   "language": "python",
   "name": "python3"
  },
  "language_info": {
   "codemirror_mode": {
    "name": "ipython",
    "version": 3
   },
   "file_extension": ".py",
   "mimetype": "text/x-python",
   "name": "python",
   "nbconvert_exporter": "python",
   "pygments_lexer": "ipython3",
   "version": "3.8.3"
  }
 },
 "nbformat": 4,
 "nbformat_minor": 4
}
